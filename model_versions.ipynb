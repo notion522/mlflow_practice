{
 "cells": [
  {
   "cell_type": "code",
   "execution_count": 18,
   "id": "0a4cbd15-a093-4142-8215-8d8660701f11",
   "metadata": {},
   "outputs": [
    {
     "name": "stdout",
     "output_type": "stream",
     "text": [
      "Requirement already satisfied: numpy in c:\\users\\k.hegde\\desktop\\learnings\\learning_mlflow\\myenv\\lib\\site-packages (2.3.4)\n",
      "Requirement already satisfied: scikit-learn in c:\\users\\k.hegde\\desktop\\learnings\\learning_mlflow\\myenv\\lib\\site-packages (1.7.2)\n",
      "Requirement already satisfied: xgboost in c:\\users\\k.hegde\\desktop\\learnings\\learning_mlflow\\myenv\\lib\\site-packages (3.1.1)\n",
      "Requirement already satisfied: imblearn in c:\\users\\k.hegde\\desktop\\learnings\\learning_mlflow\\myenv\\lib\\site-packages (0.0)\n",
      "Requirement already satisfied: mlflow in c:\\users\\k.hegde\\desktop\\learnings\\learning_mlflow\\myenv\\lib\\site-packages (3.5.1)\n",
      "Requirement already satisfied: scipy>=1.8.0 in c:\\users\\k.hegde\\desktop\\learnings\\learning_mlflow\\myenv\\lib\\site-packages (from scikit-learn) (1.16.3)\n",
      "Requirement already satisfied: joblib>=1.2.0 in c:\\users\\k.hegde\\desktop\\learnings\\learning_mlflow\\myenv\\lib\\site-packages (from scikit-learn) (1.5.2)\n",
      "Requirement already satisfied: threadpoolctl>=3.1.0 in c:\\users\\k.hegde\\desktop\\learnings\\learning_mlflow\\myenv\\lib\\site-packages (from scikit-learn) (3.6.0)\n",
      "Requirement already satisfied: imbalanced-learn in c:\\users\\k.hegde\\desktop\\learnings\\learning_mlflow\\myenv\\lib\\site-packages (from imblearn) (0.14.0)\n",
      "Requirement already satisfied: mlflow-skinny==3.5.1 in c:\\users\\k.hegde\\desktop\\learnings\\learning_mlflow\\myenv\\lib\\site-packages (from mlflow) (3.5.1)\n",
      "Requirement already satisfied: mlflow-tracing==3.5.1 in c:\\users\\k.hegde\\desktop\\learnings\\learning_mlflow\\myenv\\lib\\site-packages (from mlflow) (3.5.1)\n",
      "Requirement already satisfied: Flask-CORS<7 in c:\\users\\k.hegde\\desktop\\learnings\\learning_mlflow\\myenv\\lib\\site-packages (from mlflow) (6.0.1)\n",
      "Requirement already satisfied: Flask<4 in c:\\users\\k.hegde\\desktop\\learnings\\learning_mlflow\\myenv\\lib\\site-packages (from mlflow) (3.1.2)\n",
      "Requirement already satisfied: alembic!=1.10.0,<2 in c:\\users\\k.hegde\\desktop\\learnings\\learning_mlflow\\myenv\\lib\\site-packages (from mlflow) (1.17.1)\n",
      "Requirement already satisfied: cryptography<47,>=43.0.0 in c:\\users\\k.hegde\\desktop\\learnings\\learning_mlflow\\myenv\\lib\\site-packages (from mlflow) (46.0.3)\n",
      "Requirement already satisfied: docker<8,>=4.0.0 in c:\\users\\k.hegde\\desktop\\learnings\\learning_mlflow\\myenv\\lib\\site-packages (from mlflow) (7.1.0)\n",
      "Requirement already satisfied: graphene<4 in c:\\users\\k.hegde\\desktop\\learnings\\learning_mlflow\\myenv\\lib\\site-packages (from mlflow) (3.4.3)\n",
      "Requirement already satisfied: matplotlib<4 in c:\\users\\k.hegde\\desktop\\learnings\\learning_mlflow\\myenv\\lib\\site-packages (from mlflow) (3.10.7)\n",
      "Requirement already satisfied: pandas<3 in c:\\users\\k.hegde\\desktop\\learnings\\learning_mlflow\\myenv\\lib\\site-packages (from mlflow) (2.3.3)\n",
      "Requirement already satisfied: pyarrow<22,>=4.0.0 in c:\\users\\k.hegde\\desktop\\learnings\\learning_mlflow\\myenv\\lib\\site-packages (from mlflow) (21.0.0)\n",
      "Requirement already satisfied: sqlalchemy<3,>=1.4.0 in c:\\users\\k.hegde\\desktop\\learnings\\learning_mlflow\\myenv\\lib\\site-packages (from mlflow) (2.0.44)\n",
      "Requirement already satisfied: waitress<4 in c:\\users\\k.hegde\\desktop\\learnings\\learning_mlflow\\myenv\\lib\\site-packages (from mlflow) (3.0.2)\n",
      "Requirement already satisfied: cachetools<7,>=5.0.0 in c:\\users\\k.hegde\\desktop\\learnings\\learning_mlflow\\myenv\\lib\\site-packages (from mlflow-skinny==3.5.1->mlflow) (6.2.1)\n",
      "Requirement already satisfied: click<9,>=7.0 in c:\\users\\k.hegde\\desktop\\learnings\\learning_mlflow\\myenv\\lib\\site-packages (from mlflow-skinny==3.5.1->mlflow) (8.3.0)\n",
      "Requirement already satisfied: cloudpickle<4 in c:\\users\\k.hegde\\desktop\\learnings\\learning_mlflow\\myenv\\lib\\site-packages (from mlflow-skinny==3.5.1->mlflow) (3.1.1)\n",
      "Requirement already satisfied: databricks-sdk<1,>=0.20.0 in c:\\users\\k.hegde\\desktop\\learnings\\learning_mlflow\\myenv\\lib\\site-packages (from mlflow-skinny==3.5.1->mlflow) (0.70.0)\n",
      "Requirement already satisfied: fastapi<1 in c:\\users\\k.hegde\\desktop\\learnings\\learning_mlflow\\myenv\\lib\\site-packages (from mlflow-skinny==3.5.1->mlflow) (0.120.1)\n",
      "Requirement already satisfied: gitpython<4,>=3.1.9 in c:\\users\\k.hegde\\desktop\\learnings\\learning_mlflow\\myenv\\lib\\site-packages (from mlflow-skinny==3.5.1->mlflow) (3.1.45)\n",
      "Requirement already satisfied: importlib_metadata!=4.7.0,<9,>=3.7.0 in c:\\users\\k.hegde\\desktop\\learnings\\learning_mlflow\\myenv\\lib\\site-packages (from mlflow-skinny==3.5.1->mlflow) (8.7.0)\n",
      "Requirement already satisfied: opentelemetry-api<3,>=1.9.0 in c:\\users\\k.hegde\\desktop\\learnings\\learning_mlflow\\myenv\\lib\\site-packages (from mlflow-skinny==3.5.1->mlflow) (1.38.0)\n",
      "Requirement already satisfied: opentelemetry-proto<3,>=1.9.0 in c:\\users\\k.hegde\\desktop\\learnings\\learning_mlflow\\myenv\\lib\\site-packages (from mlflow-skinny==3.5.1->mlflow) (1.38.0)\n",
      "Requirement already satisfied: opentelemetry-sdk<3,>=1.9.0 in c:\\users\\k.hegde\\desktop\\learnings\\learning_mlflow\\myenv\\lib\\site-packages (from mlflow-skinny==3.5.1->mlflow) (1.38.0)\n",
      "Requirement already satisfied: packaging<26 in c:\\users\\k.hegde\\desktop\\learnings\\learning_mlflow\\myenv\\lib\\site-packages (from mlflow-skinny==3.5.1->mlflow) (25.0)\n",
      "Requirement already satisfied: protobuf<7,>=3.12.0 in c:\\users\\k.hegde\\desktop\\learnings\\learning_mlflow\\myenv\\lib\\site-packages (from mlflow-skinny==3.5.1->mlflow) (6.33.0)\n",
      "Requirement already satisfied: pydantic<3,>=1.10.8 in c:\\users\\k.hegde\\desktop\\learnings\\learning_mlflow\\myenv\\lib\\site-packages (from mlflow-skinny==3.5.1->mlflow) (2.12.3)\n",
      "Requirement already satisfied: python-dotenv<2,>=0.19.0 in c:\\users\\k.hegde\\desktop\\learnings\\learning_mlflow\\myenv\\lib\\site-packages (from mlflow-skinny==3.5.1->mlflow) (1.2.1)\n",
      "Requirement already satisfied: pyyaml<7,>=5.1 in c:\\users\\k.hegde\\desktop\\learnings\\learning_mlflow\\myenv\\lib\\site-packages (from mlflow-skinny==3.5.1->mlflow) (6.0.3)\n",
      "Requirement already satisfied: requests<3,>=2.17.3 in c:\\users\\k.hegde\\desktop\\learnings\\learning_mlflow\\myenv\\lib\\site-packages (from mlflow-skinny==3.5.1->mlflow) (2.32.5)\n",
      "Requirement already satisfied: sqlparse<1,>=0.4.0 in c:\\users\\k.hegde\\desktop\\learnings\\learning_mlflow\\myenv\\lib\\site-packages (from mlflow-skinny==3.5.1->mlflow) (0.5.3)\n",
      "Requirement already satisfied: typing-extensions<5,>=4.0.0 in c:\\users\\k.hegde\\desktop\\learnings\\learning_mlflow\\myenv\\lib\\site-packages (from mlflow-skinny==3.5.1->mlflow) (4.15.0)\n",
      "Requirement already satisfied: uvicorn<1 in c:\\users\\k.hegde\\desktop\\learnings\\learning_mlflow\\myenv\\lib\\site-packages (from mlflow-skinny==3.5.1->mlflow) (0.38.0)\n",
      "Requirement already satisfied: Mako in c:\\users\\k.hegde\\desktop\\learnings\\learning_mlflow\\myenv\\lib\\site-packages (from alembic!=1.10.0,<2->mlflow) (1.3.10)\n",
      "Requirement already satisfied: colorama in c:\\users\\k.hegde\\desktop\\learnings\\learning_mlflow\\myenv\\lib\\site-packages (from click<9,>=7.0->mlflow-skinny==3.5.1->mlflow) (0.4.6)\n",
      "Requirement already satisfied: cffi>=2.0.0 in c:\\users\\k.hegde\\desktop\\learnings\\learning_mlflow\\myenv\\lib\\site-packages (from cryptography<47,>=43.0.0->mlflow) (2.0.0)\n",
      "Requirement already satisfied: google-auth~=2.0 in c:\\users\\k.hegde\\desktop\\learnings\\learning_mlflow\\myenv\\lib\\site-packages (from databricks-sdk<1,>=0.20.0->mlflow-skinny==3.5.1->mlflow) (2.42.0)\n",
      "Requirement already satisfied: pywin32>=304 in c:\\users\\k.hegde\\desktop\\learnings\\learning_mlflow\\myenv\\lib\\site-packages (from docker<8,>=4.0.0->mlflow) (311)\n",
      "Requirement already satisfied: urllib3>=1.26.0 in c:\\users\\k.hegde\\desktop\\learnings\\learning_mlflow\\myenv\\lib\\site-packages (from docker<8,>=4.0.0->mlflow) (2.5.0)\n",
      "Requirement already satisfied: starlette<0.50.0,>=0.40.0 in c:\\users\\k.hegde\\desktop\\learnings\\learning_mlflow\\myenv\\lib\\site-packages (from fastapi<1->mlflow-skinny==3.5.1->mlflow) (0.49.1)\n",
      "Requirement already satisfied: annotated-doc>=0.0.2 in c:\\users\\k.hegde\\desktop\\learnings\\learning_mlflow\\myenv\\lib\\site-packages (from fastapi<1->mlflow-skinny==3.5.1->mlflow) (0.0.3)\n",
      "Requirement already satisfied: blinker>=1.9.0 in c:\\users\\k.hegde\\desktop\\learnings\\learning_mlflow\\myenv\\lib\\site-packages (from Flask<4->mlflow) (1.9.0)\n",
      "Requirement already satisfied: itsdangerous>=2.2.0 in c:\\users\\k.hegde\\desktop\\learnings\\learning_mlflow\\myenv\\lib\\site-packages (from Flask<4->mlflow) (2.2.0)\n",
      "Requirement already satisfied: jinja2>=3.1.2 in c:\\users\\k.hegde\\desktop\\learnings\\learning_mlflow\\myenv\\lib\\site-packages (from Flask<4->mlflow) (3.1.6)\n",
      "Requirement already satisfied: markupsafe>=2.1.1 in c:\\users\\k.hegde\\desktop\\learnings\\learning_mlflow\\myenv\\lib\\site-packages (from Flask<4->mlflow) (3.0.3)\n",
      "Requirement already satisfied: werkzeug>=3.1.0 in c:\\users\\k.hegde\\desktop\\learnings\\learning_mlflow\\myenv\\lib\\site-packages (from Flask<4->mlflow) (3.1.3)\n",
      "Requirement already satisfied: gitdb<5,>=4.0.1 in c:\\users\\k.hegde\\desktop\\learnings\\learning_mlflow\\myenv\\lib\\site-packages (from gitpython<4,>=3.1.9->mlflow-skinny==3.5.1->mlflow) (4.0.12)\n",
      "Requirement already satisfied: smmap<6,>=3.0.1 in c:\\users\\k.hegde\\desktop\\learnings\\learning_mlflow\\myenv\\lib\\site-packages (from gitdb<5,>=4.0.1->gitpython<4,>=3.1.9->mlflow-skinny==3.5.1->mlflow) (5.0.2)\n",
      "Requirement already satisfied: pyasn1-modules>=0.2.1 in c:\\users\\k.hegde\\desktop\\learnings\\learning_mlflow\\myenv\\lib\\site-packages (from google-auth~=2.0->databricks-sdk<1,>=0.20.0->mlflow-skinny==3.5.1->mlflow) (0.4.2)\n",
      "Requirement already satisfied: rsa<5,>=3.1.4 in c:\\users\\k.hegde\\desktop\\learnings\\learning_mlflow\\myenv\\lib\\site-packages (from google-auth~=2.0->databricks-sdk<1,>=0.20.0->mlflow-skinny==3.5.1->mlflow) (4.9.1)\n",
      "Requirement already satisfied: graphql-core<3.3,>=3.1 in c:\\users\\k.hegde\\desktop\\learnings\\learning_mlflow\\myenv\\lib\\site-packages (from graphene<4->mlflow) (3.2.6)\n",
      "Requirement already satisfied: graphql-relay<3.3,>=3.1 in c:\\users\\k.hegde\\desktop\\learnings\\learning_mlflow\\myenv\\lib\\site-packages (from graphene<4->mlflow) (3.2.0)\n",
      "Requirement already satisfied: python-dateutil<3,>=2.7.0 in c:\\users\\k.hegde\\desktop\\learnings\\learning_mlflow\\myenv\\lib\\site-packages (from graphene<4->mlflow) (2.9.0.post0)\n",
      "Requirement already satisfied: zipp>=3.20 in c:\\users\\k.hegde\\desktop\\learnings\\learning_mlflow\\myenv\\lib\\site-packages (from importlib_metadata!=4.7.0,<9,>=3.7.0->mlflow-skinny==3.5.1->mlflow) (3.23.0)\n",
      "Requirement already satisfied: contourpy>=1.0.1 in c:\\users\\k.hegde\\desktop\\learnings\\learning_mlflow\\myenv\\lib\\site-packages (from matplotlib<4->mlflow) (1.3.3)\n",
      "Requirement already satisfied: cycler>=0.10 in c:\\users\\k.hegde\\desktop\\learnings\\learning_mlflow\\myenv\\lib\\site-packages (from matplotlib<4->mlflow) (0.12.1)\n",
      "Requirement already satisfied: fonttools>=4.22.0 in c:\\users\\k.hegde\\desktop\\learnings\\learning_mlflow\\myenv\\lib\\site-packages (from matplotlib<4->mlflow) (4.60.1)\n",
      "Requirement already satisfied: kiwisolver>=1.3.1 in c:\\users\\k.hegde\\desktop\\learnings\\learning_mlflow\\myenv\\lib\\site-packages (from matplotlib<4->mlflow) (1.4.9)\n",
      "Requirement already satisfied: pillow>=8 in c:\\users\\k.hegde\\desktop\\learnings\\learning_mlflow\\myenv\\lib\\site-packages (from matplotlib<4->mlflow) (12.0.0)\n",
      "Requirement already satisfied: pyparsing>=3 in c:\\users\\k.hegde\\desktop\\learnings\\learning_mlflow\\myenv\\lib\\site-packages (from matplotlib<4->mlflow) (3.2.5)\n",
      "Requirement already satisfied: opentelemetry-semantic-conventions==0.59b0 in c:\\users\\k.hegde\\desktop\\learnings\\learning_mlflow\\myenv\\lib\\site-packages (from opentelemetry-sdk<3,>=1.9.0->mlflow-skinny==3.5.1->mlflow) (0.59b0)\n",
      "Requirement already satisfied: pytz>=2020.1 in c:\\users\\k.hegde\\desktop\\learnings\\learning_mlflow\\myenv\\lib\\site-packages (from pandas<3->mlflow) (2025.2)\n",
      "Requirement already satisfied: tzdata>=2022.7 in c:\\users\\k.hegde\\desktop\\learnings\\learning_mlflow\\myenv\\lib\\site-packages (from pandas<3->mlflow) (2025.2)\n",
      "Requirement already satisfied: annotated-types>=0.6.0 in c:\\users\\k.hegde\\desktop\\learnings\\learning_mlflow\\myenv\\lib\\site-packages (from pydantic<3,>=1.10.8->mlflow-skinny==3.5.1->mlflow) (0.7.0)\n",
      "Requirement already satisfied: pydantic-core==2.41.4 in c:\\users\\k.hegde\\desktop\\learnings\\learning_mlflow\\myenv\\lib\\site-packages (from pydantic<3,>=1.10.8->mlflow-skinny==3.5.1->mlflow) (2.41.4)\n",
      "Requirement already satisfied: typing-inspection>=0.4.2 in c:\\users\\k.hegde\\desktop\\learnings\\learning_mlflow\\myenv\\lib\\site-packages (from pydantic<3,>=1.10.8->mlflow-skinny==3.5.1->mlflow) (0.4.2)\n",
      "Requirement already satisfied: six>=1.5 in c:\\users\\k.hegde\\desktop\\learnings\\learning_mlflow\\myenv\\lib\\site-packages (from python-dateutil<3,>=2.7.0->graphene<4->mlflow) (1.17.0)\n",
      "Requirement already satisfied: charset_normalizer<4,>=2 in c:\\users\\k.hegde\\desktop\\learnings\\learning_mlflow\\myenv\\lib\\site-packages (from requests<3,>=2.17.3->mlflow-skinny==3.5.1->mlflow) (3.4.4)\n",
      "Requirement already satisfied: idna<4,>=2.5 in c:\\users\\k.hegde\\desktop\\learnings\\learning_mlflow\\myenv\\lib\\site-packages (from requests<3,>=2.17.3->mlflow-skinny==3.5.1->mlflow) (3.11)\n",
      "Requirement already satisfied: certifi>=2017.4.17 in c:\\users\\k.hegde\\desktop\\learnings\\learning_mlflow\\myenv\\lib\\site-packages (from requests<3,>=2.17.3->mlflow-skinny==3.5.1->mlflow) (2025.10.5)\n",
      "Requirement already satisfied: pyasn1>=0.1.3 in c:\\users\\k.hegde\\desktop\\learnings\\learning_mlflow\\myenv\\lib\\site-packages (from rsa<5,>=3.1.4->google-auth~=2.0->databricks-sdk<1,>=0.20.0->mlflow-skinny==3.5.1->mlflow) (0.6.1)\n",
      "Requirement already satisfied: greenlet>=1 in c:\\users\\k.hegde\\desktop\\learnings\\learning_mlflow\\myenv\\lib\\site-packages (from sqlalchemy<3,>=1.4.0->mlflow) (3.2.4)\n",
      "Requirement already satisfied: anyio<5,>=3.6.2 in c:\\users\\k.hegde\\desktop\\learnings\\learning_mlflow\\myenv\\lib\\site-packages (from starlette<0.50.0,>=0.40.0->fastapi<1->mlflow-skinny==3.5.1->mlflow) (4.11.0)\n",
      "Requirement already satisfied: sniffio>=1.1 in c:\\users\\k.hegde\\desktop\\learnings\\learning_mlflow\\myenv\\lib\\site-packages (from anyio<5,>=3.6.2->starlette<0.50.0,>=0.40.0->fastapi<1->mlflow-skinny==3.5.1->mlflow) (1.3.1)\n",
      "Requirement already satisfied: h11>=0.8 in c:\\users\\k.hegde\\desktop\\learnings\\learning_mlflow\\myenv\\lib\\site-packages (from uvicorn<1->mlflow-skinny==3.5.1->mlflow) (0.16.0)\n",
      "Requirement already satisfied: pycparser in c:\\users\\k.hegde\\desktop\\learnings\\learning_mlflow\\myenv\\lib\\site-packages (from cffi>=2.0.0->cryptography<47,>=43.0.0->mlflow) (2.23)\n"
     ]
    },
    {
     "name": "stderr",
     "output_type": "stream",
     "text": [
      "\n",
      "[notice] A new release of pip is available: 25.2 -> 25.3\n",
      "[notice] To update, run: C:\\Users\\k.hegde\\Desktop\\learnings\\Learning_MLflow\\myenv\\Scripts\\python.exe -m pip install --upgrade pip\n"
     ]
    }
   ],
   "source": [
    "!.\\myenv\\Scripts\\pip install numpy scikit-learn xgboost imblearn mlflow --upgrade mlflow"
   ]
  },
  {
   "cell_type": "code",
   "execution_count": 2,
   "id": "d165ee61-3f06-423d-8107-84689316ad77",
   "metadata": {},
   "outputs": [],
   "source": [
    "\n",
    "import numpy as np\n",
    "from sklearn.datasets import make_classification\n",
    "from sklearn.model_selection import train_test_split\n",
    "from sklearn.linear_model import LogisticRegression\n",
    "from sklearn.ensemble import RandomForestClassifier\n",
    "from xgboost import XGBClassifier\n",
    "from sklearn.metrics import classification_report\n",
    "import warnings\n",
    "warnings.filterwarnings('ignore')"
   ]
  },
  {
   "cell_type": "code",
   "execution_count": 3,
   "id": "accee594-b6aa-41d3-95f3-72b8576e02bb",
   "metadata": {},
   "outputs": [
    {
     "data": {
      "text/plain": [
       "(array([0, 1]), array([900, 100]))"
      ]
     },
     "execution_count": 3,
     "metadata": {},
     "output_type": "execute_result"
    }
   ],
   "source": [
    "X, y = make_classification(n_samples=1000, n_features=10, n_informative=2, n_redundant=8, \n",
    "                           weights=[0.9, 0.1], flip_y=0, random_state=42)\n",
    "\n",
    "np.unique(y, return_counts=True)"
   ]
  },
  {
   "cell_type": "code",
   "execution_count": 4,
   "id": "19fb76b0-3fb9-43f9-b401-a39c0c32b208",
   "metadata": {},
   "outputs": [],
   "source": [
    "X_train, X_test, y_train, y_test = train_test_split(X, y, test_size=0.3, stratify=y, random_state=42)"
   ]
  },
  {
   "cell_type": "code",
   "execution_count": 5,
   "id": "fdf1acad-1cb7-4143-b8b3-b3e2a464cc99",
   "metadata": {},
   "outputs": [
    {
     "name": "stdout",
     "output_type": "stream",
     "text": [
      "              precision    recall  f1-score   support\n",
      "\n",
      "           0       0.95      0.96      0.95       270\n",
      "           1       0.60      0.50      0.55        30\n",
      "\n",
      "    accuracy                           0.92       300\n",
      "   macro avg       0.77      0.73      0.75       300\n",
      "weighted avg       0.91      0.92      0.91       300\n",
      "\n"
     ]
    }
   ],
   "source": [
    "#logistic regression\n",
    "\n",
    "log_reg = LogisticRegression(C=1, solver='liblinear')\n",
    "log_reg.fit(X_train, y_train)\n",
    "y_pred_log_reg = log_reg.predict(X_test)\n",
    "print(classification_report(y_test, y_pred_log_reg))"
   ]
  },
  {
   "cell_type": "code",
   "execution_count": 6,
   "id": "9d40b642-41ef-47e1-b48d-a839bbb647a2",
   "metadata": {},
   "outputs": [
    {
     "name": "stdout",
     "output_type": "stream",
     "text": [
      "              precision    recall  f1-score   support\n",
      "\n",
      "           0       0.96      1.00      0.98       270\n",
      "           1       0.95      0.67      0.78        30\n",
      "\n",
      "    accuracy                           0.96       300\n",
      "   macro avg       0.96      0.83      0.88       300\n",
      "weighted avg       0.96      0.96      0.96       300\n",
      "\n"
     ]
    }
   ],
   "source": [
    "#random forest\n",
    "rf_clf = RandomForestClassifier(n_estimators=30, max_depth=3)\n",
    "rf_clf.fit(X_train, y_train)\n",
    "y_pred_rf = rf_clf.predict(X_test)\n",
    "print(classification_report(y_test, y_pred_rf))"
   ]
  },
  {
   "cell_type": "code",
   "execution_count": 7,
   "id": "511a2c2e-ad44-4226-a2ff-6586f0bbaa95",
   "metadata": {},
   "outputs": [
    {
     "name": "stdout",
     "output_type": "stream",
     "text": [
      "              precision    recall  f1-score   support\n",
      "\n",
      "           0       0.98      1.00      0.99       270\n",
      "           1       0.96      0.80      0.87        30\n",
      "\n",
      "    accuracy                           0.98       300\n",
      "   macro avg       0.97      0.90      0.93       300\n",
      "weighted avg       0.98      0.98      0.98       300\n",
      "\n"
     ]
    }
   ],
   "source": [
    "#xgboost\n",
    "\n",
    "xgb_clf = XGBClassifier(use_label_encoder=False, eval_metric='logloss')\n",
    "xgb_clf.fit(X_train, y_train)\n",
    "y_pred_xgb = xgb_clf.predict(X_test)\n",
    "print(classification_report(y_test, y_pred_xgb))"
   ]
  },
  {
   "cell_type": "code",
   "execution_count": 8,
   "id": "84a52ac4-d6ca-4530-a327-9a3cc7570eab",
   "metadata": {},
   "outputs": [
    {
     "data": {
      "text/plain": [
       "(array([0, 1]), array([619, 619]))"
      ]
     },
     "execution_count": 8,
     "metadata": {},
     "output_type": "execute_result"
    }
   ],
   "source": [
    "# Handle class imbalance using SMOTETomek and then Train XGBoost\n",
    "\n",
    "from imblearn.combine import SMOTETomek\n",
    "\n",
    "smt = SMOTETomek(random_state=42)\n",
    "X_train_res, y_train_res = smt.fit_resample(X_train, y_train)\n",
    "\n",
    "np.unique(y_train_res, return_counts=True)"
   ]
  },
  {
   "cell_type": "code",
   "execution_count": 9,
   "id": "5e12b82b-4522-46be-8e47-6377c2825c87",
   "metadata": {},
   "outputs": [
    {
     "name": "stdout",
     "output_type": "stream",
     "text": [
      "              precision    recall  f1-score   support\n",
      "\n",
      "           0       0.98      0.98      0.98       270\n",
      "           1       0.81      0.83      0.82        30\n",
      "\n",
      "    accuracy                           0.96       300\n",
      "   macro avg       0.89      0.91      0.90       300\n",
      "weighted avg       0.96      0.96      0.96       300\n",
      "\n"
     ]
    }
   ],
   "source": [
    "\n",
    "xgb_clf = XGBClassifier(use_label_encoder=False, eval_metric='logloss')\n",
    "xgb_clf.fit(X_train_res, y_train_res)\n",
    "y_pred_xgb = xgb_clf.predict(X_test)\n",
    "print(classification_report(y_test, y_pred_xgb))"
   ]
  },
  {
   "cell_type": "code",
   "execution_count": 10,
   "id": "574dbca7-8b24-4467-9e85-398dc4e4572b",
   "metadata": {},
   "outputs": [],
   "source": [
    "models = [\n",
    "    (\n",
    "        \"Logistic regression\",\n",
    "        {\"C\":1,\"solver\":\"liblinear\"},\n",
    "        LogisticRegression(),\n",
    "        (X_train,y_train),\n",
    "        (X_test,y_test)\n",
    "    ),\n",
    "    (\n",
    "        \"Random Forest\",\n",
    "        {\"n_estimators\":30,\"max_depth\":3},\n",
    "        RandomForestClassifier(),\n",
    "        (X_train,y_train),\n",
    "        (X_test,y_test)\n",
    "    ),\n",
    "    (\n",
    "        \"XGBClassifier\",\n",
    "        {\"use_label_encoder\":False,\"eval_metric\":\"logloss\"},\n",
    "        XGBClassifier(),\n",
    "        (X_train,y_train),\n",
    "        (X_test,y_test)\n",
    "    ),\n",
    "    (\n",
    "        \"XGBClassifier with SMOTE\",\n",
    "        {\"use_label_encoder\":False,\"eval_metric\":\"logloss\"},\n",
    "        XGBClassifier(),\n",
    "        (X_train_res,y_train_res),\n",
    "        (X_test,y_test)\n",
    "    )\n",
    "    \n",
    "]"
   ]
  },
  {
   "cell_type": "code",
   "execution_count": 11,
   "id": "acc949b6-545e-4fee-b268-7b046ae90644",
   "metadata": {},
   "outputs": [],
   "source": [
    "reports = []\n",
    "\n",
    "for model_name, params,model, train_set, test_set in models:\n",
    "    X_train = train_set[0]\n",
    "    y_train = train_set[1]\n",
    "    X_test = test_set[0]\n",
    "    y_test = test_set[1]\n",
    "\n",
    "    model.set_params(**params)\n",
    "    model.fit(X_train, y_train)\n",
    "    y_pred = model.predict(X_test)\n",
    "    report = classification_report(y_test, y_pred, output_dict=True)\n",
    "    reports.append(report)"
   ]
  },
  {
   "cell_type": "code",
   "execution_count": 12,
   "id": "f63051c4-9b5c-4426-b98c-91a47c8fd4b5",
   "metadata": {},
   "outputs": [],
   "source": [
    "import mlflow\n",
    "import mlflow.sklearn\n",
    "import mlflow.xgboost"
   ]
  },
  {
   "cell_type": "code",
   "execution_count": 17,
   "id": "9f1036ca-8f74-41c3-8b82-b775b95b44f9",
   "metadata": {},
   "outputs": [
    {
     "name": "stderr",
     "output_type": "stream",
     "text": [
      "2025/10/29 16:34:26 WARNING mlflow.models.model: `artifact_path` is deprecated. Please use `name` instead.\n",
      "2025/10/29 16:34:30 WARNING mlflow.models.model: Model logged without a signature and input example. Please set `input_example` parameter when logging the model to auto infer the model signature.\n",
      "2025/10/29 16:34:30 WARNING mlflow.models.model: `artifact_path` is deprecated. Please use `name` instead.\n"
     ]
    },
    {
     "name": "stdout",
     "output_type": "stream",
     "text": [
      "🏃 View run Logistic regression at: http://localhost:5000/#/experiments/412791393524591808/runs/65fcbf81912f4ce8bcddfe39319dd9d2\n",
      "🧪 View experiment at: http://localhost:5000/#/experiments/412791393524591808\n"
     ]
    },
    {
     "name": "stderr",
     "output_type": "stream",
     "text": [
      "2025/10/29 16:34:33 WARNING mlflow.models.model: Model logged without a signature and input example. Please set `input_example` parameter when logging the model to auto infer the model signature.\n",
      "2025/10/29 16:34:34 WARNING mlflow.models.model: `artifact_path` is deprecated. Please use `name` instead.\n"
     ]
    },
    {
     "name": "stdout",
     "output_type": "stream",
     "text": [
      "🏃 View run Random Forest at: http://localhost:5000/#/experiments/412791393524591808/runs/c7d2462aeec74c2385d7e348e5bd847f\n",
      "🧪 View experiment at: http://localhost:5000/#/experiments/412791393524591808\n"
     ]
    },
    {
     "name": "stderr",
     "output_type": "stream",
     "text": [
      "2025/10/29 16:34:37 WARNING mlflow.models.model: Model logged without a signature and input example. Please set `input_example` parameter when logging the model to auto infer the model signature.\n",
      "2025/10/29 16:34:37 WARNING mlflow.models.model: `artifact_path` is deprecated. Please use `name` instead.\n"
     ]
    },
    {
     "name": "stdout",
     "output_type": "stream",
     "text": [
      "🏃 View run XGBClassifier at: http://localhost:5000/#/experiments/412791393524591808/runs/f96cea1b95ad4b8582aa77938c4d1eda\n",
      "🧪 View experiment at: http://localhost:5000/#/experiments/412791393524591808\n"
     ]
    },
    {
     "name": "stderr",
     "output_type": "stream",
     "text": [
      "2025/10/29 16:34:41 WARNING mlflow.models.model: Model logged without a signature and input example. Please set `input_example` parameter when logging the model to auto infer the model signature.\n"
     ]
    },
    {
     "name": "stdout",
     "output_type": "stream",
     "text": [
      "🏃 View run XGBClassifier with SMOTE at: http://localhost:5000/#/experiments/412791393524591808/runs/a5e30b08b36f4e1586caaa44dceb0b9b\n",
      "🧪 View experiment at: http://localhost:5000/#/experiments/412791393524591808\n"
     ]
    }
   ],
   "source": [
    "# Initialize MLflow\n",
    "mlflow.set_tracking_uri(\"http://localhost:5000\")\n",
    "mlflow.set_experiment(\"AnomalyDetection\")\n",
    "\n",
    "\n",
    "for i, element in enumerate(models):\n",
    "    model_name = element[0]\n",
    "    params = element[1]\n",
    "    model = element[2]\n",
    "    report = reports[i]\n",
    "        \n",
    "    with mlflow.start_run(run_name=model_name):        \n",
    "        mlflow.log_params(params)\n",
    "        mlflow.log_metrics({\n",
    "            'accuracy': report['accuracy'],\n",
    "            'recall_class_1': report['1']['recall'],\n",
    "            'recall_class_0': report['0']['recall'],\n",
    "            'f1_score_macro': report['macro avg']['f1-score']\n",
    "        })       \n",
    "        \n",
    "        if \"XGB\" in model_name:\n",
    "            mlflow.xgboost.log_model(model, \"model\")\n",
    "        else:\n",
    "            mlflow.sklearn.log_model(model, \"model\")  "
   ]
  },
  {
   "cell_type": "code",
   "execution_count": null,
   "id": "3dd027f4-cdd5-4035-b9eb-c6d274418e5f",
   "metadata": {},
   "outputs": [],
   "source": [
    "result = mlflow.register_model(\n",
    "    \n",
    "    \"runs:/a5e30b08b36f4e1586caaa44dceb0b9b/\",\"XGBClassifier with SMOTE\"\n",
    ")"
   ]
  },
  {
   "cell_type": "code",
   "execution_count": 21,
   "id": "ae9f9465-05ad-4665-9a1a-3f17fdf943a3",
   "metadata": {},
   "outputs": [
    {
     "name": "stderr",
     "output_type": "stream",
     "text": [
      "Registered model 'XGB-with-smote' already exists. Creating a new version of this model...\n",
      "2025/10/29 17:00:57 WARNING mlflow.tracking._model_registry.fluent: Run with id a5e30b08b36f4e1586caaa44dceb0b9b has no artifacts at artifact path 'model', registering model based on models:/m-4fc9ca62f8db47ceb65093ad3bcbdcb0 instead\n",
      "2025/10/29 17:00:57 INFO mlflow.store.model_registry.abstract_store: Waiting up to 300 seconds for model version to finish creation. Model name: XGB-with-smote, version 2\n",
      "Created version '2' of model 'XGB-with-smote'.\n"
     ]
    },
    {
     "data": {
      "text/plain": [
       "<ModelVersion: aliases=[], creation_timestamp=1761737457336, current_stage='None', deployment_job_state=<ModelVersionDeploymentJobState: current_task_name='', job_id='', job_state='DEPLOYMENT_JOB_CONNECTION_STATE_UNSPECIFIED', run_id='', run_state='DEPLOYMENT_JOB_RUN_STATE_UNSPECIFIED'>, description='', last_updated_timestamp=1761737457336, metrics=None, model_id=None, name='XGB-with-smote', params=None, run_id='a5e30b08b36f4e1586caaa44dceb0b9b', run_link='', source='models:/m-4fc9ca62f8db47ceb65093ad3bcbdcb0', status='READY', status_message=None, tags={}, user_id='', version='2'>"
      ]
     },
     "execution_count": 21,
     "metadata": {},
     "output_type": "execute_result"
    }
   ],
   "source": [
    "mlflow.register_model(model_uri=\"runs:/a5e30b08b36f4e1586caaa44dceb0b9b/model\", name=\"XGB-with-smote\")"
   ]
  },
  {
   "cell_type": "markdown",
   "id": "a23b90c7-2922-4663-81cb-6e5d0278d9f5",
   "metadata": {},
   "source": [
    "### load the model"
   ]
  },
  {
   "cell_type": "code",
   "execution_count": 28,
   "id": "1c5482e2-eb32-419e-a4bc-38f978f3efaf",
   "metadata": {},
   "outputs": [
    {
     "data": {
      "text/plain": [
       "array([0, 0, 0, 0])"
      ]
     },
     "execution_count": 28,
     "metadata": {},
     "output_type": "execute_result"
    }
   ],
   "source": [
    "model_name = \"XGB-with-Smote\" \n",
    "model_version = 1\n",
    "model_uri = f\"models:/{model_name}@challenger\"\n",
    "\n",
    "loaded_model = mlflow.xgboost.load_model(model_uri=\"runs:/a5e30b08b36f4e1586caaa44dceb0b9b/model\")\n",
    "y_pred = loaded_model.predict(X_test)\n",
    "y_pred[:4]"
   ]
  },
  {
   "cell_type": "code",
   "execution_count": 31,
   "id": "b8d8a15a-6204-47ca-90aa-b5af2f8af3f8",
   "metadata": {},
   "outputs": [
    {
     "name": "stderr",
     "output_type": "stream",
     "text": [
      "Successfully registered model 'anomaly_detection_prod'.\n",
      "Copied version '2' of model 'XGB-with-smote' to version '1' of model 'anomaly_detection_prod'.\n"
     ]
    },
    {
     "data": {
      "text/plain": [
       "<ModelVersion: aliases=[], creation_timestamp=1761741302341, current_stage='None', deployment_job_state=<ModelVersionDeploymentJobState: current_task_name='', job_id='', job_state='DEPLOYMENT_JOB_CONNECTION_STATE_UNSPECIFIED', run_id='', run_state='DEPLOYMENT_JOB_RUN_STATE_UNSPECIFIED'>, description='', last_updated_timestamp=1761741302341, metrics=None, model_id=None, name='anomaly_detection_prod', params=None, run_id='a5e30b08b36f4e1586caaa44dceb0b9b', run_link='', source='models:/XGB-with-smote/2', status='READY', status_message=None, tags={}, user_id='', version='1'>"
      ]
     },
     "execution_count": 31,
     "metadata": {},
     "output_type": "execute_result"
    }
   ],
   "source": [
    "dev_model_uri = f\"models:/{model_name}@challenger\"\n",
    "prod_model = 'anomaly_detection_prod'\n",
    "\n",
    "client = mlflow.MlflowClient()\n",
    "client.copy_model_version(src_model_uri= dev_model_uri, dst_name=prod_model)"
   ]
  },
  {
   "cell_type": "code",
   "execution_count": 32,
   "id": "8c367d5c-fde3-4918-b366-147461e7925d",
   "metadata": {},
   "outputs": [
    {
     "data": {
      "text/plain": [
       "array([0, 0, 0, 0])"
      ]
     },
     "execution_count": 32,
     "metadata": {},
     "output_type": "execute_result"
    }
   ],
   "source": [
    "model_uri = f\"models:/{prod_model}@champion\"\n",
    "\n",
    "loaded_model = mlflow.xgboost.load_model(model_uri)\n",
    "y_pred = loaded_model.predict(X_test)\n",
    "y_pred[:4]"
   ]
  },
  {
   "cell_type": "code",
   "execution_count": null,
   "id": "af2e8f67-11b4-4017-85df-d547f77b34bf",
   "metadata": {},
   "outputs": [],
   "source": []
  }
 ],
 "metadata": {
  "kernelspec": {
   "display_name": "myenv",
   "language": "python",
   "name": "myenv"
  },
  "language_info": {
   "codemirror_mode": {
    "name": "ipython",
    "version": 3
   },
   "file_extension": ".py",
   "mimetype": "text/x-python",
   "name": "python",
   "nbconvert_exporter": "python",
   "pygments_lexer": "ipython3",
   "version": "3.13.5"
  }
 },
 "nbformat": 4,
 "nbformat_minor": 5
}
